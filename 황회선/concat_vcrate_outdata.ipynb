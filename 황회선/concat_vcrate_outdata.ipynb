{
 "cells": [
  {
   "cell_type": "code",
   "execution_count": null,
   "metadata": {},
   "outputs": [],
   "source": [
    "import os\n",
    "import pandas as pd \n",
    "\n",
    "d4 = pd.read_csv('4.성남시_표제부.csv')\n",
    "d7 = pd.read_csv('7.성남시_지식산업센터.csv')\n",
    "\n",
    "vcrate_folders = os.path.join(os.getcwd(), \"vcrate_outfiles\")\n",
    "vcrate_files = os.listdir(vcrate_folders)\n",
    "pd.read_csv(os.path.join(vcrate_folders, vcrate_files[0]), encoding='euc-kr')"
   ]
  },
  {
   "cell_type": "code",
   "execution_count": 11,
   "metadata": {},
   "outputs": [],
   "source": []
  },
  {
   "cell_type": "code",
   "execution_count": null,
   "metadata": {},
   "outputs": [],
   "source": []
  }
 ],
 "metadata": {
  "kernelspec": {
   "display_name": "pypy",
   "language": "python",
   "name": "python3"
  },
  "language_info": {
   "codemirror_mode": {
    "name": "ipython",
    "version": 3
   },
   "file_extension": ".py",
   "mimetype": "text/x-python",
   "name": "python",
   "nbconvert_exporter": "python",
   "pygments_lexer": "ipython3",
   "version": "3.9.20"
  }
 },
 "nbformat": 4,
 "nbformat_minor": 2
}
