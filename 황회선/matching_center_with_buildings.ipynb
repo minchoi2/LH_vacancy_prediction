{
 "cells": [
  {
   "cell_type": "code",
   "execution_count": null,
   "metadata": {},
   "outputs": [],
   "source": [
    "pip install folium"
   ]
  },
  {
   "cell_type": "markdown",
   "metadata": {},
   "source": [
    "# Library Load"
   ]
  },
  {
   "cell_type": "code",
   "execution_count": 15,
   "metadata": {},
   "outputs": [],
   "source": [
    "import folium\n",
    "import pandas as pd\n",
    "import numpy as np \n",
    "import sklearn\n",
    "import geopy\n",
    "from sklearn.cluster import DBSCAN\n",
    "from geopy.distance import great_circle\n",
    "from sklearn.neighbors import BallTree"
   ]
  },
  {
   "cell_type": "code",
   "execution_count": 17,
   "metadata": {},
   "outputs": [
    {
     "name": "stdout",
     "output_type": "stream",
     "text": [
      "folium version: 0.19.4\n",
      "pandas version: 2.1.4\n",
      "numpy version: 1.26.4\n",
      "scikit-learn version(DBSCAN, BallTree): 1.4.2\n",
      "geopy version(great_circle): 2.4.1\n"
     ]
    }
   ],
   "source": [
    "# 라이브러리 버전 출력\n",
    "print(f\"folium version: {folium.__version__}\")\n",
    "print(f\"pandas version: {pd.__version__}\")\n",
    "print(f\"numpy version: {np.__version__}\")\n",
    "print(f\"scikit-learn version(DBSCAN, BallTree): {sklearn.__version__}\")\n",
    "print(f\"geopy version(great_circle): {geopy.__version__}\")"
   ]
  },
  {
   "cell_type": "markdown",
   "metadata": {},
   "source": [
    "# Data Load"
   ]
  },
  {
   "cell_type": "code",
   "execution_count": 1,
   "metadata": {},
   "outputs": [
    {
     "name": "stderr",
     "output_type": "stream",
     "text": [
      "C:\\Users\\황회선\\AppData\\Local\\Temp\\ipykernel_31856\\551751979.py:3: DtypeWarning: Columns (14,15,34,58,59,60,61,67) have mixed types. Specify dtype option on import or set low_memory=False.\n",
      "  d4 = pd.read_csv('4.성남시_표제부.csv')\n"
     ]
    }
   ],
   "source": [
    "d4 = pd.read_csv('4.성남시_표제부.csv')\n",
    "d7 = pd.read_csv('7.성남시_지식산업센터.csv')\n",
    "\n",
    "d7['vacancy_rate_2101'] = 1 - d7['cpn_in_2101']/d7['tot_cpn']\n",
    "d7['vacancy_rate_2201'] = 1 - d7['cpn_in_2201']/d7['tot_cpn']\n",
    "d7['vacancy_rate_2302'] = 1 - d7['cpn_in_2302']/d7['tot_cpn']\n",
    "d7['vacancy_rate_2402'] = 1 - d7['cpn_in_2402']/d7['tot_cpn']\n",
    "d7['vacancy_rate_2406'] = 1 - d7['cpn_in_2406']/d7['tot_cpn']"
   ]
  },
  {
   "cell_type": "markdown",
   "metadata": {},
   "source": [
    "# Main"
   ]
  },
  {
   "cell_type": "code",
   "execution_count": null,
   "metadata": {},
   "outputs": [],
   "source": [
    "# d4에 신주소를 기반으로 위도,경도를 찾아서 매칭해주는코드 (안돌려도 됩니다)\n",
    "\n",
    "# pip install geopy\n",
    "\n",
    "# from geopy.geocoders import Nominatim\n",
    "# from geopy.extra.rate_limiter import RateLimiter\n",
    "\n",
    "# # Geolocator 설정 (Nominatim 사용)\n",
    "# geolocator = Nominatim(user_agent=\"geoapi\")\n",
    "# geocode = RateLimiter(geolocator.geocode, min_delay_seconds=1)  # API 호출 속도 조절\n",
    "\n",
    "# # 함수 정의\n",
    "# def get_lat_lon(address):\n",
    "#     try:\n",
    "#         location = geocode(address)\n",
    "#         if location:\n",
    "#             return location.latitude, location.longitude\n",
    "#         else:\n",
    "#             return None, None\n",
    "#     except Exception as e:\n",
    "#         print(f\"Error: {e}, Address: {address}\")\n",
    "#         return None, None\n",
    "\n",
    "# # 위도와 경도 컬럼 추가\n",
    "# d4[['lat', 'lon']] = d4['new_plat_plc'].apply(lambda x: pd.Series(get_lat_lon(x)))\n",
    "\n",
    "# d4[['lat', 'lon']]"
   ]
  },
  {
   "cell_type": "code",
   "execution_count": null,
   "metadata": {},
   "outputs": [],
   "source": [
    "# ✅ Haversine 거리 기반 DBSCAN 클러스터링 함수\n",
    "def cluster_d7(df, eps_km=1.0, min_samples=2):\n",
    "    \"\"\"\n",
    "    d7(지산센)의 위치를 밀도 기반으로 클러스터링하여 대표 지점을 선정하는 함수\n",
    "\n",
    "    :param df: 지산센 DataFrame (lat, lon 필수)\n",
    "    :param eps_km: 클러스터 반경 (km)\n",
    "    :param min_samples: 최소 클러스터 포함 개수\n",
    "    :return: 클러스터링된 d7 (대표 lat, lon 포함)\n",
    "    \"\"\"\n",
    "    # 위경도를 라디안 변환\n",
    "    coords = np.radians(df[['lat', 'lon']].values)\n",
    "\n",
    "    # DBSCAN 실행 (Haversine 거리 사용)\n",
    "    kms_per_radian = 6371.0088  # 지구 반지름 (km)\n",
    "    db = DBSCAN(eps=eps_km / kms_per_radian, min_samples=min_samples, metric='haversine')\n",
    "    df['cluster'] = db.fit_predict(coords)\n",
    "\n",
    "    # 클러스터 -1은 노이즈 데이터이므로 제외\n",
    "    clustered_df = df[df['cluster'] != -1]\n",
    "\n",
    "    # ✅ 각 클러스터별 대표 중심점(lat, lon) 계산\n",
    "    cluster_centers = clustered_df.groupby('cluster')[['lat', 'lon']].mean().reset_index()\n",
    "    # 클러스터 번호를 기반으로 region_info 생성\n",
    "    cluster_centers['region_info'] = 'Cluster ' + (cluster_centers['cluster'] + 1).astype(str)\n",
    "\n",
    "    return cluster_centers\n",
    "\n",
    "# ✅ d7 클러스터링 실행\n",
    "d7_clustered = cluster_d7(d7, eps_km=1.0, min_samples=2)\n",
    "\n",
    "# 결과 확인\n",
    "print(d7_clustered)"
   ]
  },
  {
   "cell_type": "code",
   "execution_count": null,
   "metadata": {},
   "outputs": [],
   "source": [
    "# 위도, 경도를 라디안으로 변환하는 함수 (NaN 처리 추가)\n",
    "def to_radians(df):\n",
    "    df = df.copy()\n",
    "    df['lat_r'] = np.radians(df['lat'])\n",
    "    df['lon_r'] = np.radians(df['lon'])\n",
    "    return df\n",
    "\n",
    "# Haversine 거리 기반 최근접 탐색 함수 (NaN 고려)\n",
    "def match_nearest(df1, df2):\n",
    "    # NaN이 있는 경우, 그대로 유지하도록 변환\n",
    "    df1 = to_radians(df1)\n",
    "    df2 = to_radians(df2)\n",
    "\n",
    "    # NaN이 있는 경우, 처리할 수 있도록 마스크 생성\n",
    "    valid_mask = df1[['lat_r', 'lon_r']].notna().all(axis=1)\n",
    "\n",
    "    # BallTree 생성 (haversine 거리 사용, NaN 제외)\n",
    "    tree = BallTree(df2[['lat_r', 'lon_r']].dropna().values, metric='haversine')\n",
    "\n",
    "    # 최근접 이웃 찾기 (NaN이 있는 행은 제외)\n",
    "    distances = np.full(len(df1), np.nan)\n",
    "    indices = np.full(len(df1), np.nan)\n",
    "\n",
    "    if valid_mask.any():\n",
    "        valid_distances, valid_indices = tree.query(df1.loc[valid_mask, ['lat_r', 'lon_r']].values, k=1)\n",
    "        distances[valid_mask] = valid_distances.flatten()\n",
    "        indices[valid_mask] = valid_indices.flatten()\n",
    "\n",
    "    # 거리(km 단위 변환: 지구 반지름 6371km)\n",
    "    df1['matched_lat'] = np.nan\n",
    "    df1['matched_lon'] = np.nan\n",
    "    df1['matched_region'] = np.nan\n",
    "    df1['distance_km'] = distances * 6371  # 거리 (km)\n",
    "\n",
    "    # 유효한 값이 있는 경우만 매칭\n",
    "    valid_indices = indices[valid_mask].astype(int)\n",
    "    df1.loc[valid_mask, 'matched_lat'] = df2.iloc[valid_indices]['lat'].values\n",
    "    df1.loc[valid_mask, 'matched_lon'] = df2.iloc[valid_indices]['lon'].values\n",
    "    df1.loc[valid_mask, 'matched_region'] = df2.iloc[valid_indices]['region_info'].values # 지산센이름\n",
    "\n",
    "    return df1.drop(columns=['lat_r', 'lon_r'])  # 라디안 컬럼 삭제 후 반환\n",
    "\n",
    "# 예제 데이터프레임 생성\n",
    "\n",
    "# 최근접 매칭 실행\n",
    "data_matched = match_nearest(d4, d7_clustered)\n",
    "\n",
    "# 결과 출력\n",
    "print(data_matched.head())"
   ]
  },
  {
   "cell_type": "code",
   "execution_count": null,
   "metadata": {},
   "outputs": [],
   "source": [
    "# NaN 값 처리 함수 (NaN 값이 있는 행 제거)\n",
    "def remove_na(df):\n",
    "    return df.dropna(subset=['lat', 'lon'])\n",
    "\n",
    "# 1. d4 건물 정보에 매칭된 d7 클러스터 정보 추가하기\n",
    "def match_d4_to_d7_clusters(d4, d7_clustered):\n",
    "    # NaN 값을 제거\n",
    "    d4_cleaned = remove_na(d4)\n",
    "    d7_clustered_cleaned = remove_na(d7_clustered)\n",
    "\n",
    "    print(f\"Cleaned d4 size: {d4_cleaned.shape}\")\n",
    "    print(f\"Cleaned d7_clustered size: {d7_clustered_cleaned.shape}\")\n",
    "\n",
    "    # BallTree를 사용해서 d4의 건물 위치와 d7 클러스터 중심점과의 거리를 계산\n",
    "    tree = BallTree(np.radians(d7_clustered_cleaned[['lat', 'lon']].values), metric='haversine')\n",
    "    distances, indices = tree.query(np.radians(d4_cleaned[['lat', 'lon']].values), k=1)\n",
    "\n",
    "    # 각 건물에 대해 매칭된 d7 클러스터의 region_info 값을 추가\n",
    "    d4_cleaned['matched_region_info'] = d7_clustered_cleaned.iloc[indices.flatten()]['region_info'].values\n",
    "\n",
    "    return d4_cleaned\n",
    "\n",
    "# d4 건물에 매칭된 클러스터 정보 추가\n",
    "d4_matched = match_d4_to_d7_clusters(d4, d7_clustered)\n",
    "\n",
    "# 2. folium으로 시각화할 때, 매칭된 클러스터 번호에 따라 색상 설정\n",
    "def create_map(d7_clustered, d4_matched):\n",
    "    m = folium.Map(location=[37.5665, 126.978], zoom_start=10)\n",
    "\n",
    "    # d7 클러스터의 대표 지산센을 큰 네모로 표시\n",
    "    for idx, row in d7_clustered.iterrows():\n",
    "        folium.Marker(\n",
    "            location=[row['lat'], row['lon']],\n",
    "            popup=row['region_info'],\n",
    "            icon=folium.Icon(color='blue')\n",
    "        ).add_to(m)\n",
    "\n",
    "    # d4 건물들을 매칭된 지산센 클러스터 색깔에 맞게 점으로 표시\n",
    "    for idx, row in d4_matched.iterrows():\n",
    "        region_info = row['matched_region_info']\n",
    "        \n",
    "        # region_info에 맞는 색상을 설정 (예: Cluster 1 -> red, Cluster 2 -> green, ... 또는 다른 방식으로 처리)\n",
    "        if region_info == 'Cluster 1':\n",
    "            color = 'red'\n",
    "        elif region_info == 'Cluster 2':\n",
    "            color = 'green'\n",
    "        elif region_info == 'Cluster 3':\n",
    "            color = 'blue'\n",
    "        else:\n",
    "            color = 'gray'  # 기본 색\n",
    "\n",
    "        folium.CircleMarker(\n",
    "            location=[row['lat'], row['lon']],\n",
    "            radius=5,\n",
    "            color=color,\n",
    "            fill=True,\n",
    "            fill_color=color,\n",
    "            fill_opacity=0.6\n",
    "        ).add_to(m)\n",
    "\n",
    "    return m\n",
    "\n",
    "# d7 클러스터와 d4 매칭된 건물 정보로 지도 생성\n",
    "m = create_map(d7_clustered, d4_matched)\n",
    "m.save('center_clusters_with_buildings_map.html')  # 지도 저장\n",
    "m"
   ]
  },
  {
   "cell_type": "code",
   "execution_count": null,
   "metadata": {},
   "outputs": [],
   "source": [
    "d4_matched.groupby(['matched_region_info']).count().iloc[:,0].sort_values(ascending=False)"
   ]
  },
  {
   "cell_type": "code",
   "execution_count": null,
   "metadata": {},
   "outputs": [],
   "source": [
    "# 클러스터별 공실률 경향 (2클러스터를 제외하곤 다 수가 1~2개여서 신뢰도는 많이 없음.)\n",
    "d7.groupby(['cluster'])[d7.columns[16:21]].agg(['min','mean','median','max','count']).T"
   ]
  }
 ],
 "metadata": {
  "kernelspec": {
   "display_name": "pypy",
   "language": "python",
   "name": "python3"
  },
  "language_info": {
   "codemirror_mode": {
    "name": "ipython",
    "version": 3
   },
   "file_extension": ".py",
   "mimetype": "text/x-python",
   "name": "python",
   "nbconvert_exporter": "python",
   "pygments_lexer": "ipython3",
   "version": "3.9.20"
  }
 },
 "nbformat": 4,
 "nbformat_minor": 2
}
